{
  "nbformat": 4,
  "nbformat_minor": 0,
  "metadata": {
    "colab": {
      "name": "geocoding.ipynb",
      "provenance": [],
      "collapsed_sections": [],
      "include_colab_link": true
    },
    "kernelspec": {
      "name": "python3",
      "display_name": "Python 3"
    }
  },
  "cells": [
    {
      "cell_type": "markdown",
      "metadata": {
        "id": "view-in-github",
        "colab_type": "text"
      },
      "source": [
        "<a href=\"https://colab.research.google.com/github/manuel-alvarez/geocoding/blob/master/geocoding.ipynb\" target=\"_parent\"><img src=\"https://colab.research.google.com/assets/colab-badge.svg\" alt=\"Open In Colab\"/></a>"
      ]
    },
    {
      "cell_type": "markdown",
      "metadata": {
        "id": "dyt-ptNXbPVS",
        "colab_type": "text"
      },
      "source": [
        "# Geocoding"
      ]
    },
    {
      "cell_type": "markdown",
      "metadata": {
        "id": "afEu7PaobQ7k",
        "colab_type": "text"
      },
      "source": [
        "We'll use Here API in order to get the data we want"
      ]
    },
    {
      "cell_type": "code",
      "metadata": {
        "id": "lWntIpwGiBDV",
        "colab_type": "code",
        "colab": {}
      },
      "source": [
        "import requests"
      ],
      "execution_count": 0,
      "outputs": []
    },
    {
      "cell_type": "code",
      "metadata": {
        "id": "WZBM0nRAzc3D",
        "colab_type": "code",
        "colab": {}
      },
      "source": [
        "LATLON0='52.5,13.4'\n",
        "LATLON1='52.5,13.45'"
      ],
      "execution_count": 0,
      "outputs": []
    },
    {
      "cell_type": "code",
      "metadata": {
        "id": "G_-vC4TtbZX0",
        "colab_type": "code",
        "colab": {}
      },
      "source": [
        "api_url = f'https://route.api.here.com/routing/7.2/calculateroute.json?app_id={HERE_APP_ID}&app_code={HERE_APP_CODE}&waypoint0=geo!{LATLON0}&waypoint1=geo!{LATLON1}&mode=fastest;car;traffic:disabled'"
      ],
      "execution_count": 0,
      "outputs": []
    },
    {
      "cell_type": "code",
      "metadata": {
        "id": "WZPxgBpZiAHF",
        "colab_type": "code",
        "colab": {}
      },
      "source": [
        "resp = requests.get(api_url)\n",
        "resp.json()"
      ],
      "execution_count": 0,
      "outputs": []
    },
    {
      "cell_type": "code",
      "metadata": {
        "id": "PcgudsirzsCB",
        "colab_type": "code",
        "colab": {}
      },
      "source": [
        "summary = resp.json().get('response', {}).get('route', [])[0].get('summary', {})\n",
        "distance = int(summary.get('distance', 0)) / 1000\n",
        "drivetime = int(summary.get('travelTime', 0)) / 60\n",
        "print('distance', distance)\n",
        "print('drivetime', drivetime)"
      ],
      "execution_count": 0,
      "outputs": []
    }
  ]
}